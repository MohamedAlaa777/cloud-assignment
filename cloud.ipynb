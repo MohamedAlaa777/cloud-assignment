{
 "cells": [
  {
   "cell_type": "code",
   "execution_count": 11,
   "metadata": {},
   "outputs": [],
   "source": [
    "import pandas as pd\n",
    "df = pd.read_csv('books.csv')\n",
    "\n",
    "df.dropna(inplace=True)  # Drop rows with missing values\n",
    "\n",
    "# Remove duplicates\n",
    "df.drop_duplicates(inplace=True)\n",
    "\n",
    "\n",
    "\n",
    "HarryPotterbookseris = df[df['original_title'].str.contains('Harry Potter', case=False) ]\n",
    "\n",
    "heightestrate=HarryPotterbookseris['average_rating'].max()\n",
    "bestsellingbook = HarryPotterbookseris[HarryPotterbookseris['average_rating'] == heightestrate]\n",
    "bestsellingbook=bestsellingbook['title']        \n",
    "\n",
    "print('best selling books = '+bestsellingbook)\n",
    "\n",
    "average = HarryPotterbookseris['average_rating'].mean()\n",
    "average =str(average)\n",
    "print('the avrage of harry potter books = '+ average)"
   ]
  }
 ],
 "metadata": {
  "kernelspec": {
   "display_name": "Python 3",
   "language": "python",
   "name": "python3"
  },
  "language_info": {
   "codemirror_mode": {
    "name": "ipython",
    "version": 3
   },
   "file_extension": ".py",
   "mimetype": "text/x-python",
   "name": "python",
   "nbconvert_exporter": "python",
   "pygments_lexer": "ipython3",
   "version": "3.11.3"
  }
 },
 "nbformat": 4,
 "nbformat_minor": 2
}
