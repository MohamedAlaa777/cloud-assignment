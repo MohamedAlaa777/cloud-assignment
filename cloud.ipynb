{
 "cells": [
  {
   "cell_type": "code",
   "execution_count": null,
   "metadata": {},
   "outputs": [
    {
     "ename": "",
     "evalue": "",
     "output_type": "error",
     "traceback": [
      "\u001b[1;31mRunning cells with 'Python 3.11.3' requires the ipykernel package.\n",
      "\u001b[1;31mRun the following command to install 'ipykernel' into the Python environment. \n",
      "\u001b[1;31mCommand: 'c:/Users/dell/AppData/Local/Programs/Python/Python311/python.exe -m pip install ipykernel -U --user --force-reinstall'"
     ]
    }
   ],
   "source": [
    "import pandas as pd\n",
    "df = pd.read_csv('books.csv')\n",
    "\n",
    "df.dropna(inplace=True)  # Drop rows with missing values\n",
    "\n",
    "# Remove duplicates\n",
    "df.drop_duplicates(inplace=True)\n",
    "\n",
    "\n",
    "\n",
    "HarryPotterbookseris = df[df['original_title'].str.contains('Harry Potter', case=False) ]\n",
    "\n",
    "heightestrate=HarryPotterbookseris['average_rating'].max()\n",
    "bestsellingbook = HarryPotterbookseris[HarryPotterbookseris['average_rating'] == heightestrate]\n",
    "bestsellingbook=bestsellingbook['title']        \n",
    "\n",
    "print('best selling books = '+bestsellingbook)\n",
    "\n",
    "average = HarryPotterbookseris['average_rating'].mean()\n",
    "average =str(average)\n",
    "print('the avrage of harry potter books = '+ average)"
   ]
  }
 ],
 "metadata": {
  "kernelspec": {
   "display_name": "Python 3",
   "language": "python",
   "name": "python3"
  },
  "language_info": {
   "name": "python",
   "version": "3.11.3"
  }
 },
 "nbformat": 4,
 "nbformat_minor": 2
}
